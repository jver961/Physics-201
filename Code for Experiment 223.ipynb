{
 "cells": [
  {
   "cell_type": "markdown",
   "id": "a0bd7575",
   "metadata": {},
   "source": [
    "<h1> Code used for Experiment 223 </h1>\n",
    "\n",
    "This Python notebook shows exactly what code was used to process the images of the shapes, and find their centres of mass.\n",
    "\n",
    "Firstly, the following modules were imported:"
   ]
  },
  {
   "cell_type": "code",
   "execution_count": 1,
   "id": "ba5ea924",
   "metadata": {},
   "outputs": [],
   "source": [
    "import matplotlib.pyplot as plt\n",
    "import numpy as np\n",
    "\n",
    "# this is to make sure figures pop out as a separate window:\n",
    "%matplotlib tk \n",
    "\n",
    "# loading standard colour maps\n",
    "from matplotlib import cm "
   ]
  },
  {
   "cell_type": "markdown",
   "id": "c6e8409b",
   "metadata": {},
   "source": [
    "Next, the images were imported as arrays of RGB values for each pixel. "
   ]
  },
  {
   "cell_type": "code",
   "execution_count": 8,
   "id": "4848bfe5",
   "metadata": {},
   "outputs": [],
   "source": [
    "F1 = plt.imread(\".\\\\Shape1.jpg\")\n",
    "F2 = plt.imread(\".\\\\Shape2.jpg\")\n",
    "F3 = plt.imread(\".\\\\Shape3.jpg\")"
   ]
  },
  {
   "cell_type": "markdown",
   "id": "8384eed8",
   "metadata": {},
   "source": [
    "To find the centres of mass of each shape, the pixels on the shape had to be isolated from the others. This was done by converting the image to grayscale, and setting a threshold brightness for the pixels that would be considered on the shape. This threshold was found by trial and error."
   ]
  },
  {
   "cell_type": "code",
   "execution_count": 9,
   "id": "4c5dfa7c",
   "metadata": {},
   "outputs": [],
   "source": [
    "def threshold_color_image(F, threshold = 0.5):\n",
    "    \n",
    "    # Weighting the components to make the image grayscale\n",
    "    imgray = 0.2125*F[:,:,0] + 0.7154*F[:,:,1] + 0.0721*F[:,:,2]\n",
    "    \n",
    "    # Normalizing brightness of the pixels\n",
    "    imgray = imgray / imgray.max()\n",
    "    \n",
    "    # Determining the pixels brighter than the threshold chosen\n",
    "    mask_bright = imgray > threshold\n",
    "    mask_dark = np.logical_not(mask_bright)\n",
    "    \n",
    "    # Setting each pixel on the shape to be 1, others 0\n",
    "    imgray[mask_bright] = 1\n",
    "    imgray[mask_dark] = 0\n",
    "\n",
    "    return imgray\n",
    "\n",
    "# Setting image arrays to their indicator function equivalents\n",
    "# (info about colour/brightness is no longer needed)\n",
    "F1 = threshold_color_image(F1, threshold = 0.7)\n",
    "F2 = threshold_color_image(F2, threshold = 0.5)\n",
    "F3 = threshold_color_image(F3, threshold = 0.6)"
   ]
  },
  {
   "cell_type": "markdown",
   "id": "65ef6dee",
   "metadata": {},
   "source": [
    "Next, to generate the images included in the report (and also to make sure the shapes were roughly correct), a matplotlib figure was generated that shows the shape it thinks the object is."
   ]
  },
  {
   "cell_type": "code",
   "execution_count": 10,
   "id": "a47b2662",
   "metadata": {},
   "outputs": [],
   "source": [
    "fig, ax = plt.subplots()\n",
    "ax.set_title('Reading of Shape 1')\n",
    "implot = ax.imshow(F1, cmap=cm.gray, aspect='equal')\n",
    "ax.set_xlabel('horizontal distance (in pixels)')\n",
    "ax.set_ylabel('vertical distance (in pixels)')\n",
    "plt.show()\n",
    "\n",
    "fig, ax = plt.subplots()\n",
    "ax.set_title('Reading of Shape 2')\n",
    "implot = ax.imshow(F2, cmap=cm.gray, aspect='equal')\n",
    "ax.set_xlabel('horizontal distance (in pixels)')\n",
    "ax.set_ylabel('vertical distance (in pixels)')\n",
    "plt.show()\n",
    "\n",
    "fig, ax = plt.subplots()\n",
    "ax.set_title('Reading of Shape 3')\n",
    "implot = ax.imshow(F3, cmap=cm.gray, aspect='equal')\n",
    "ax.set_xlabel('horizontal distance (in pixels)')\n",
    "ax.set_ylabel('vertical distance (in pixels)')\n",
    "plt.show()"
   ]
  },
  {
   "cell_type": "markdown",
   "id": "0cb3ea59",
   "metadata": {},
   "source": [
    "Based on Equation 18 in the report, the centre of mass was then calculated for each shape.\n",
    "\n",
    "Firstly, to get a sense of scale, the dpi of each image was calculated. This was done by measuring the distance between two points on each shape (in inches), and then calculating the pixel distance between the two points on the image (using the above figures generated; there is a feature that shows the pixel the mouse is hovering over).\n",
    "\n",
    "Secondly, a function to find the area of the shape in square inches was defined.\n",
    "\n",
    "Thirdly, the COM was calculated by summing the $x$-coordinates and $y$-coordinates of each particle in the mass. This is because\n",
    "\\begin{align}\n",
    "\\mathbf{R} = \\frac{1}{A} \\left(\\sum_{i = 1} ^{N_1} \\sum_{j = 1} ^{N_2} \\chi_Q(\\mathbf{r}_{ij})\\mathbf{r}_{ij} \\, \\Delta x \\, \\Delta y \\right)\n",
    "\\end{align}\n",
    "and $\\mathbf{r}_{ij} = x_{ij}\\mathbf{\\hat{x}} + y_{ij}\\mathbf{\\hat{y}}$, so\n",
    "\\begin{align}\n",
    "\\mathbf{R} = \\frac{1}{A} \\left(\\sum_{i = 1} ^{N_1} \\sum_{j = 1} ^{N_2} \\chi_Q(\\mathbf{r}_{ij})x_{ij} \\, \\Delta x \\, \\Delta y \\right)\\mathbf{\\hat x} + \\frac{1}{A} \\left(\\sum_{i = 1} ^{N_1} \\sum_{j = 1} ^{N_2} \\chi_Q(\\mathbf{r}_{ij})y_{ij} \\, \\Delta x \\, \\Delta y \\right)\\mathbf{\\hat y}.\n",
    "\\end{align}"
   ]
  },
  {
   "cell_type": "code",
   "execution_count": 11,
   "id": "0fec4c3b",
   "metadata": {},
   "outputs": [
    {
     "name": "stdout",
     "output_type": "stream",
     "text": [
      "The area of shape 1 is 29.72 sq in.\n",
      "The area of shape 2 is 50.42 sq in.\n",
      "The area of shape 3 is 26.72 sq in.\n"
     ]
    }
   ],
   "source": [
    "dpi1 = 3171/(208/25.4) # Pixel distance 3171, real distance 208mm\n",
    "dpi2 = 3339/(216/25.4) # Pixel distance 3339, real distance 216mm\n",
    "dpi3 = 3197/(158/25.4) # Pixel distance 3197, real distance 158mm\n",
    "\n",
    "# The area in square dots should just be the number of pixels.\n",
    "def areainch(img, dpi):\n",
    "    return np.sum(img)/dpi**2\n",
    "\n",
    "# This is the answer to [Q7].\n",
    "def area(img, dpi):\n",
    "    return np.sum(img)/(dpi/25.4)**2\n",
    "\n",
    "A1 = areainch(F1, dpi1)\n",
    "A2 = areainch(F2, dpi2)\n",
    "A3 = areainch(F3, dpi3)\n",
    "print(f'The area of shape 1 is {A1:.4g} sq in.')\n",
    "print(f'The area of shape 2 is {A2:.4g} sq in.')\n",
    "print(f'The area of shape 3 is {A3:.4g} sq in.')"
   ]
  },
  {
   "cell_type": "code",
   "execution_count": 12,
   "id": "eef44abe",
   "metadata": {},
   "outputs": [
    {
     "name": "stdout",
     "output_type": "stream",
     "text": [
      "The COM of shape 1 is at [1694.11468402 2002.85540058].\n",
      "The COM of shape 2 is at [1798.41484467 2012.41727589].\n",
      "The COM of shape 3 is at [1634.20433664 2184.24639564].\n"
     ]
    }
   ],
   "source": [
    "def cofm(img, dpi):\n",
    "    x = np.arange(img.shape[1])\n",
    "    y = np.arange(img.shape[0])\n",
    "    \n",
    "    xcm = np.sum(np.transpose(img)*x[:, np.newaxis])/(dpi**2*areainch(img, dpi))\n",
    "    ycm = np.sum(img*y[:, np.newaxis])/(dpi**2*areainch(img, dpi))\n",
    "    \n",
    "    return np.array([xcm, ycm]) # [Q8]\n",
    "\n",
    "x1 = cofm(F1, dpi1)\n",
    "x2 = cofm(F2, dpi2)\n",
    "x3 = cofm(F3, dpi3)\n",
    "print(f'The COM of shape 1 is at {x1}.')\n",
    "print(f'The COM of shape 2 is at {x2}.')\n",
    "print(f'The COM of shape 3 is at {x3}.')"
   ]
  },
  {
   "cell_type": "markdown",
   "id": "9f031f51",
   "metadata": {},
   "source": [
    "Lastly, the distances from the COM to each hole was calculated. This was done via iteration of the following three code cells: each cell brings up an image of the shape for which clicked pixels are recorded, and calculates the distance between two clicked pixels. This was done by first clicking the COM, and then each hole."
   ]
  },
  {
   "cell_type": "markdown",
   "id": "83c4b976",
   "metadata": {},
   "source": [
    "Shape 1:"
   ]
  },
  {
   "cell_type": "code",
   "execution_count": 13,
   "id": "99b733d8",
   "metadata": {},
   "outputs": [
    {
     "name": "stdout",
     "output_type": "stream",
     "text": [
      "The distance from the COM to hole 1 is 105.7.\n",
      "The distance from the COM to hole 2 is 59.81.\n",
      "The distance from the COM to hole 3 is 63.43.\n",
      "The distance from the COM to hole 4 is 102.9.\n"
     ]
    }
   ],
   "source": [
    "fig, ax = plt.subplots()\n",
    "plt.imshow(F1, cmap=cm.gray, aspect='equal')\n",
    "plt.plot(x1[0], x1[1], 'ro') \n",
    "\n",
    "points = plt.ginput(n=5)\n",
    "plt.show()\n",
    "\n",
    "# [Q10] (divide by dpi*25.4)\n",
    "# [Q11]\n",
    "dist1 = np.linalg.norm(np.array(points[1]) - np.array(points[0]))/dpi1*25.4\n",
    "dist2 = np.linalg.norm(np.array(points[2]) - np.array(points[0]))/dpi1*25.4\n",
    "dist3 = np.linalg.norm(np.array(points[3]) - np.array(points[0]))/dpi1*25.4\n",
    "dist4 = np.linalg.norm(np.array(points[4]) - np.array(points[0]))/dpi1*25.4\n",
    "print(f'The distance from the COM to hole 1 is {dist1:.4g}.')\n",
    "print(f'The distance from the COM to hole 2 is {dist2:.4g}.')\n",
    "print(f'The distance from the COM to hole 3 is {dist3:.4g}.')\n",
    "print(f'The distance from the COM to hole 4 is {dist4:.4g}.')"
   ]
  },
  {
   "cell_type": "markdown",
   "id": "4ee0d205",
   "metadata": {},
   "source": [
    "Shape 2:"
   ]
  },
  {
   "cell_type": "code",
   "execution_count": 14,
   "id": "d6dbed24",
   "metadata": {},
   "outputs": [
    {
     "name": "stdout",
     "output_type": "stream",
     "text": [
      "The distance from the COM to hole 1 is 77.58.\n",
      "The distance from the COM to hole 2 is 109.3.\n",
      "The distance from the COM to hole 3 is 82.29.\n",
      "The distance from the COM to hole 4 is 112.6.\n",
      "The distance from the COM to hole 5 is 76.91.\n"
     ]
    }
   ],
   "source": [
    "fig, ax = plt.subplots()\n",
    "plt.imshow(F2, cmap=cm.gray, aspect='equal')\n",
    "plt.plot(x2[0], x2[1], 'ro') \n",
    "\n",
    "points = plt.ginput(n=6)\n",
    "plt.show()\n",
    "dist1 = np.linalg.norm(np.array(points[1]) - np.array(points[0]))/dpi2*25.4\n",
    "dist2 = np.linalg.norm(np.array(points[2]) - np.array(points[0]))/dpi2*25.4\n",
    "dist3 = np.linalg.norm(np.array(points[3]) - np.array(points[0]))/dpi2*25.4\n",
    "dist4 = np.linalg.norm(np.array(points[4]) - np.array(points[0]))/dpi2*25.4\n",
    "dist5 = np.linalg.norm(np.array(points[5]) - np.array(points[0]))/dpi2*25.4\n",
    "print(f'The distance from the COM to hole 1 is {dist1:.4g}.')\n",
    "print(f'The distance from the COM to hole 2 is {dist2:.4g}.')\n",
    "print(f'The distance from the COM to hole 3 is {dist3:.4g}.')\n",
    "print(f'The distance from the COM to hole 4 is {dist4:.4g}.')\n",
    "print(f'The distance from the COM to hole 5 is {dist5:.4g}.')"
   ]
  },
  {
   "cell_type": "markdown",
   "id": "af4ffda3",
   "metadata": {},
   "source": [
    "Shape 3:"
   ]
  },
  {
   "cell_type": "code",
   "execution_count": 15,
   "id": "cf55683e",
   "metadata": {},
   "outputs": [
    {
     "name": "stdout",
     "output_type": "stream",
     "text": [
      "The distance from the COM to hole 1 is 91.39.\n",
      "The distance from the COM to hole 2 is 66.2.\n",
      "The distance from the COM to hole 3 is 81.41.\n",
      "The distance from the COM to hole 4 is 78.34.\n",
      "The distance from the COM to hole 5 is 50.25.\n"
     ]
    }
   ],
   "source": [
    "fig, ax = plt.subplots()\n",
    "plt.imshow(F3, cmap=cm.gray, aspect='equal')\n",
    "plt.plot(x3[0], x3[1], 'ro') \n",
    "\n",
    "points = plt.ginput(n=6)\n",
    "plt.show()\n",
    "dist1 = np.linalg.norm(np.array(points[1]) - np.array(points[0]))/dpi3*25.4\n",
    "dist2 = np.linalg.norm(np.array(points[2]) - np.array(points[0]))/dpi3*25.4\n",
    "dist3 = np.linalg.norm(np.array(points[3]) - np.array(points[0]))/dpi3*25.4\n",
    "dist4 = np.linalg.norm(np.array(points[4]) - np.array(points[0]))/dpi3*25.4\n",
    "dist5 = np.linalg.norm(np.array(points[5]) - np.array(points[0]))/dpi3*25.4\n",
    "print(f'The distance from the COM to hole 1 is {dist1:.4g}.')\n",
    "print(f'The distance from the COM to hole 2 is {dist2:.4g}.')\n",
    "print(f'The distance from the COM to hole 3 is {dist3:.4g}.')\n",
    "print(f'The distance from the COM to hole 4 is {dist4:.4g}.')\n",
    "print(f'The distance from the COM to hole 5 is {dist5:.4g}.')"
   ]
  }
 ],
 "metadata": {
  "kernelspec": {
   "display_name": "Python 3 (ipykernel)",
   "language": "python",
   "name": "python3"
  },
  "language_info": {
   "codemirror_mode": {
    "name": "ipython",
    "version": 3
   },
   "file_extension": ".py",
   "mimetype": "text/x-python",
   "name": "python",
   "nbconvert_exporter": "python",
   "pygments_lexer": "ipython3",
   "version": "3.8.8"
  }
 },
 "nbformat": 4,
 "nbformat_minor": 5
}
